{
  "cells": [
    {
      "cell_type": "code",
      "source": [
        "#Basic Problems"
      ],
      "metadata": {
        "id": "iLxeU809UzVi"
      },
      "execution_count": 70,
      "outputs": []
    },
    {
      "cell_type": "code",
      "source": [
        "#1. Variable Swap: Write a Python program to swap the values of two variables without using a temporary variable.\n",
        "\n",
        "var1 = 5\n",
        "var2 = 6\n",
        "\n",
        "print(\"var1 = \", var1)\n",
        "print(\"var2 = \", var2)\n",
        "\n",
        "var1, var2 = var2, var1\n",
        "\n",
        "print(\"After swap var1 = \", var1)\n",
        "print(\"After swap var2 = \", var2)"
      ],
      "metadata": {
        "colab": {
          "base_uri": "https://localhost:8080/"
        },
        "id": "ef4zvRQW6ipo",
        "outputId": "496cbbe4-ae67-4f27-fb7e-73f12d1cdc11"
      },
      "execution_count": null,
      "outputs": [
        {
          "output_type": "stream",
          "name": "stdout",
          "text": [
            "var1 =  5\n",
            "var2 =  6\n",
            "After swap var1 =  6\n",
            "After swap var2 =  5\n"
          ]
        }
      ]
    },
    {
      "cell_type": "code",
      "source": [
        "#2. Even or Odd: Write a Python program that takes an integer as input and prints whether it is even or odd.\n",
        "\n",
        "var3 = int(input(\"Enter the number: \"))\n",
        "\n",
        "if var3 % 2 == 0:\n",
        "  print(var3 ,\"is even number\")\n",
        "else:\n",
        "  print(var3 ,\"is odd number\")"
      ],
      "metadata": {
        "colab": {
          "base_uri": "https://localhost:8080/"
        },
        "id": "-Ztjmd-z6jsM",
        "outputId": "9375dd9f-0a4a-410d-80e1-2ffcd81ee20d"
      },
      "execution_count": null,
      "outputs": [
        {
          "output_type": "stream",
          "name": "stdout",
          "text": [
            "Enter the number: 10\n",
            "10 is even number\n"
          ]
        }
      ]
    },
    {
      "cell_type": "code",
      "source": [
        "#3. String Reverse: Write a Python function to reverse a given string and return the reversed string.\n",
        "\n",
        "def reversed_string(input_string):\n",
        "  reversed_string = \"\"\n",
        "\n",
        "  for char in input_string:\n",
        "    reversed_string = char + reversed_string\n",
        "  return reversed_string\n",
        "\n",
        "original_string = \"rifat\"\n",
        "reversed_string = reversed_string(original_string)\n",
        "print(reversed_string)\n"
      ],
      "metadata": {
        "colab": {
          "base_uri": "https://localhost:8080/"
        },
        "id": "amFfO35i7wtv",
        "outputId": "75f813d5-b9dc-4685-ce25-27f462b2070c"
      },
      "execution_count": null,
      "outputs": [
        {
          "output_type": "stream",
          "name": "stdout",
          "text": [
            "tafir\n"
          ]
        }
      ]
    },
    {
      "cell_type": "code",
      "source": [
        "#4. Type Conversion: Given a list of integers, write a Python program to convert each element of the list to a string.\n",
        "\n",
        "li_1 = [9,12,7,4,6]\n",
        "converted_string = []\n",
        "\n",
        "for i in li_1:\n",
        "  converted_string.append(str(i))\n",
        "print(converted_string)\n"
      ],
      "metadata": {
        "colab": {
          "base_uri": "https://localhost:8080/"
        },
        "id": "_ccKpz0Z9QLT",
        "outputId": "b0864e2e-eed2-4bf9-a94e-878729f4b9aa"
      },
      "execution_count": null,
      "outputs": [
        {
          "output_type": "stream",
          "name": "stdout",
          "text": [
            "['9', '12', '7', '4', '6']\n"
          ]
        }
      ]
    },
    {
      "cell_type": "code",
      "source": [
        "#5. Temperature Converter: Write a Python program that converts a temperature in Celsius to Fahrenheit. Take the Celsius temperature as input from the user\n",
        "\n",
        "celsius = int(input(\"Enter the temperature in celsius: \"))\n",
        "\n",
        "fahrenheit = (celsius * 9/5) + 32\n",
        "\n",
        "print(\"Temperature in celsius to fahrenheit: \", fahrenheit)"
      ],
      "metadata": {
        "colab": {
          "base_uri": "https://localhost:8080/"
        },
        "id": "2D_0w_hZ_ZZW",
        "outputId": "b36ba815-e890-4a58-fc1d-3a396037c10d"
      },
      "execution_count": null,
      "outputs": [
        {
          "output_type": "stream",
          "name": "stdout",
          "text": [
            "Enter the temperature in celsius: 25\n",
            "Temperature in celsius to fahrenheit:  77.0\n"
          ]
        }
      ]
    },
    {
      "cell_type": "code",
      "source": [
        "#6. Data Type Checker: Write a Python function that takes a variable as input and returns the data type of the variable as a string (e.g., “int”, “float”, “str”, “list”, etc.).\n",
        "\n",
        "def data_type_checker(variable):\n",
        "    data_type = type(variable).__name__\n",
        "    return data_type\n",
        "\n",
        "# Example usage:\n",
        "var4 = 5\n",
        "var5 = 3.14\n",
        "var6 = \"Hello, World!\"\n",
        "var7 = [1, 2, 3]\n",
        "\n",
        "print(\"var4 is of type: \", f'\"{data_type_checker(var4)}\"')\n",
        "print(\"var5 is of type: \", f'\"{data_type_checker(var5)}\"')\n",
        "print(\"var6 is of type: \", f'\"{data_type_checker(var6)}\"')\n",
        "print(\"var7 is of type: \", f'\"{data_type_checker(var7)}\"')"
      ],
      "metadata": {
        "colab": {
          "base_uri": "https://localhost:8080/"
        },
        "id": "k5qwLesJBD4m",
        "outputId": "597e4a0c-d783-40c1-d52d-6e13156bef0d"
      },
      "execution_count": null,
      "outputs": [
        {
          "output_type": "stream",
          "name": "stdout",
          "text": [
            "var4 is of type:  \"int\"\n",
            "var5 is of type:  \"float\"\n",
            "var6 is of type:  \"str\"\n",
            "var7 is of type:  \"list\"\n"
          ]
        }
      ]
    },
    {
      "cell_type": "code",
      "source": [
        "#7. String Palindrome: Write a Python function to check if a given string is a palindrome or not.\n",
        "\n",
        "def palindrome(a):\n",
        "  if a == a[::-1]:\n",
        "    return a\n",
        "\n",
        "str = \"aabbcc\"\n",
        "result = palindrome(str)\n",
        "\n",
        "if result:\n",
        "  print(\"palindrome :\", f'\"{result}\"')\n",
        "else:\n",
        "  print(\"Not palindrome\")"
      ],
      "metadata": {
        "colab": {
          "base_uri": "https://localhost:8080/"
        },
        "id": "i0ZSPRmujsq5",
        "outputId": "a2df5471-1f1d-448d-c488-1430f4191e74"
      },
      "execution_count": null,
      "outputs": [
        {
          "output_type": "stream",
          "name": "stdout",
          "text": [
            "Not palindrome\n"
          ]
        }
      ]
    },
    {
      "cell_type": "code",
      "source": [
        "#8. String Reversal with Slicing: Write a Python function to reverse a given string using slicing.\n",
        "\n",
        "def revStr(a):\n",
        "  return a[::-1]\n",
        "\n",
        "str1 = \"hello world\"\n",
        "print(\"reverse string using slicing: \", f'\"{revStr(str1)}\"')"
      ],
      "metadata": {
        "colab": {
          "base_uri": "https://localhost:8080/"
        },
        "id": "v_9Pqb7r0iel",
        "outputId": "a9d57c77-0f89-463f-8486-5843ff29b628"
      },
      "execution_count": 2,
      "outputs": [
        {
          "output_type": "stream",
          "name": "stdout",
          "text": [
            "reverse string using slicing:  \"dlrow olleh\"\n"
          ]
        }
      ]
    },
    {
      "cell_type": "code",
      "source": [
        "#9. String Concatenation: Write a Python program that takes two strings as input and concatenates them into a single string without using the `+` operator\n",
        "\n",
        "str2 = str(input(\"Enter first string: \"))\n",
        "str3 = str(input(\"Enter second string: \"))\n",
        "\n",
        "concat = \" \".join([str2,str3])\n",
        "print(\"After joining: \", concat)"
      ],
      "metadata": {
        "colab": {
          "base_uri": "https://localhost:8080/"
        },
        "id": "S06FiNP512AU",
        "outputId": "7c27a83a-3bfa-465e-afe9-f70b8876262d"
      },
      "execution_count": 3,
      "outputs": [
        {
          "output_type": "stream",
          "name": "stdout",
          "text": [
            "Enter first string: monjurul\n",
            "Enter second string: rifat\n",
            "After joining:  monjurul rifat\n"
          ]
        }
      ]
    },
    {
      "cell_type": "code",
      "source": [
        "# 10. Typecasting Challenge: Given three variables: `a = ‘100’`, `b = 25`, and `c = ‘10.5’`, write a Python program to perform the following operations and print the results:\n",
        "# – Convert `a` to an integer and add it to `b`.\n",
        "# – Convert `c` to a float and subtract it from the result of the first operation.\n",
        "# – Convert the final result to a string and concatenate it with the string ” is the answer.”\n",
        "\n",
        "a1 = \"100\"\n",
        "b1 = 25\n",
        "c1 = \"10.5\"\n",
        "\n",
        "convert1 = int(a1) + b1\n",
        "print(\"First Operation: \", convert1)\n",
        "\n",
        "convert2 = float(c1) - convert1\n",
        "print(\"Second Operation: \", convert2)\n",
        "\n",
        "convert3 =\" \".join([str(convert2), \"is the answer\"])\n",
        "print(convert3)\n",
        "\n"
      ],
      "metadata": {
        "colab": {
          "base_uri": "https://localhost:8080/"
        },
        "id": "dVS20zeY4JbR",
        "outputId": "8bf7c9a6-c8ea-4596-e142-684d4761d953"
      },
      "execution_count": 10,
      "outputs": [
        {
          "output_type": "stream",
          "name": "stdout",
          "text": [
            "First Operation:  125\n",
            "Second Operation:  -114.5\n",
            "-114.5 is the answer\n"
          ]
        }
      ]
    },
    {
      "cell_type": "code",
      "source": [
        "# Python Conditional Statements:"
      ],
      "metadata": {
        "id": "dphT2NqcVBCH"
      },
      "execution_count": null,
      "outputs": []
    },
    {
      "cell_type": "code",
      "source": [
        "# 11. Positive, Negative, or Zero: Write a Python program that takes a number as input and prints whether it is positive, negative, or zero.\n",
        "\n",
        "num = int(input(\"Enter the number: \"))\n",
        "if num > 0:\n",
        "  print(\"Positive\")\n",
        "elif num < 0:\n",
        "  print(\"Negative\")\n",
        "elif num == 0:\n",
        "  print(\"Zero\")"
      ],
      "metadata": {
        "colab": {
          "base_uri": "https://localhost:8080/"
        },
        "id": "7tUkO3KB6pB_",
        "outputId": "de4eed0e-4251-48d3-bab7-18af41eff9ee"
      },
      "execution_count": 72,
      "outputs": [
        {
          "output_type": "stream",
          "name": "stdout",
          "text": [
            "Enter the number: 5\n",
            "Positive\n"
          ]
        }
      ]
    },
    {
      "cell_type": "code",
      "source": [
        "# 12. Largest of Three Numbers: Write a Python program that takes three numbers as input and prints the largest among them.\\\n",
        "\n",
        "num2 = float(input(\"Enter 1st value \"))\n",
        "num3 = float(input(\"Enter 2nd value \"))\n",
        "num4 = float(input(\"Enter 3rd value \"))\n",
        "\n",
        "if num2 >= num3 and num2 >= num4:\n",
        "    largest = num2\n",
        "elif num3 >= num4 and num3 >= num2:\n",
        "    largest = num3\n",
        "else:\n",
        "    largest = num4\n",
        "\n",
        "print(\"The largest value is :\", largest)\n",
        "\n"
      ],
      "metadata": {
        "colab": {
          "base_uri": "https://localhost:8080/"
        },
        "id": "6pLdvEwK7f0E",
        "outputId": "a9c7e0df-2f2d-4594-afba-e2304d9866f5"
      },
      "execution_count": 18,
      "outputs": [
        {
          "output_type": "stream",
          "name": "stdout",
          "text": [
            "Enter 1st value 56\n",
            "Enter 2nd value 89\n",
            "Enter 3rd value 799\n",
            "The largest value is : 799\n"
          ]
        }
      ]
    },
    {
      "cell_type": "code",
      "source": [
        "# 13. Leap Year Checker: Write a Python program that takes a year as input and determines if it is a leap year or not.\n",
        "\n",
        "num5 = int(input(\"Enter the year :\"))\n",
        "\n",
        "if (num5 % 4 == 0 and num5 % 100 != 0) or (num5 % 400 == 0):\n",
        "  print(num5 ,\" is a leap year\")\n",
        "else:\n",
        "  print(num5 ,\" is not a leap year\")"
      ],
      "metadata": {
        "colab": {
          "base_uri": "https://localhost:8080/"
        },
        "id": "2uzCZPVs8868",
        "outputId": "04907087-a09c-4277-9e78-bafe8e1ffdfd"
      },
      "execution_count": 22,
      "outputs": [
        {
          "output_type": "stream",
          "name": "stdout",
          "text": [
            "Enter the year :2100\n",
            "2100  is not a leap year\n"
          ]
        }
      ]
    },
    {
      "cell_type": "code",
      "source": [
        "#14 Grades Classification: Write a Python program that takes a student’s percentage as input and prints their corresponding grade according to the following criteria:\n",
        "# – 90% or above: A+\n",
        "# – 80-89%: A\n",
        "# – 70-79%: B\n",
        "# – 60-69%: C\n",
        "# – Below 60%: Fail\n",
        "\n",
        "std_percentage = int(input('''\n",
        "  Grading Classification:\n",
        "  – 90% or above: A+\n",
        "  – 80-89%: A\n",
        "  – 70-79%: B\n",
        "  – 60-69%: C\n",
        "  – Below 60%: Fail\n",
        "\n",
        "  Enter the percentage : '''))\n",
        "\n",
        "if std_percentage >= 90 and std_percentage <=100:\n",
        "  print(\"A+\")\n",
        "elif std_percentage >= 80 and std_percentage <= 89:\n",
        "  print(\"A\")\n",
        "elif std_percentage >= 70 and std_percentage <= 79:\n",
        "  print(\"B\")\n",
        "elif std_percentage >= 60 and std_percentage <= 69:\n",
        "  print(\"C\")\n",
        "elif std_percentage >= 0 and std_percentage <= 59:\n",
        "  print(\"Fail\")\n",
        "else:\n",
        "  print(\"Please enter valid input\")"
      ],
      "metadata": {
        "colab": {
          "base_uri": "https://localhost:8080/"
        },
        "id": "daLNx0_V_VP1",
        "outputId": "051eda37-84a9-4489-f4bd-e2ca4c3ab411"
      },
      "execution_count": 32,
      "outputs": [
        {
          "output_type": "stream",
          "name": "stdout",
          "text": [
            "\n",
            "  Grading Classification:\n",
            "  – 90% or above: A+\n",
            "  – 80-89%: A\n",
            "  – 70-79%: B\n",
            "  – 60-69%: C\n",
            "  – Below 60%: Fail\n",
            "\n",
            "  Enter the percentage : 109\n",
            "Please enter valid input\n"
          ]
        }
      ]
    },
    {
      "cell_type": "code",
      "source": [
        "# 15. Vowel or Consonant: Write a Python program that takes a single character as input and determines whether it is a vowel or a consonant.\n",
        "\n",
        "str2 = str(input(\"Enter the character: \"))\n",
        "\n",
        "if (len(str2) == 1) and (str2.isalpha()):\n",
        "  if str2 in \"aeiou\":\n",
        "    print(\"This character is a vowel\")\n",
        "  else:\n",
        "    print(\"This character is a consonent\")\n",
        "else:\n",
        "  print(\"Enter valid character!\")"
      ],
      "metadata": {
        "colab": {
          "base_uri": "https://localhost:8080/"
        },
        "id": "x7ScYUFSBWiQ",
        "outputId": "051213d8-8165-4358-c2c1-7f017b2b1446"
      },
      "execution_count": 47,
      "outputs": [
        {
          "output_type": "stream",
          "name": "stdout",
          "text": [
            "Enter the character: /\n",
            "Enter valid character!\n"
          ]
        }
      ]
    },
    {
      "cell_type": "code",
      "source": [
        "# 16. Time Classification: Write a Python program that takes the time in hours (24-hour format) as input and prints “Good Morning”, “Good Afternoon”, “Good Evening”, or “Good Night” based on the time.\n",
        "\n",
        "time = int(input(\"Enter the time in hours(24-hour format): \"))\n",
        "\n",
        "if 5 <= time <= 11:\n",
        "  print(\"Good Morning\")\n",
        "elif 12 <= time <= 16:\n",
        "  print(\"Good Afternoon\")\n",
        "elif 17 <= time <= 19:\n",
        "  print(\"Good Evening\")\n",
        "elif 20 <= time <= 24:\n",
        "  print(\"Good Morning\")\n",
        "else:\n",
        "  print(\"Enter correct hour\")"
      ],
      "metadata": {
        "colab": {
          "base_uri": "https://localhost:8080/"
        },
        "id": "qQIvYdg9FJH1",
        "outputId": "b68fd107-5ebd-4d2a-b24f-5b514439229a"
      },
      "execution_count": 52,
      "outputs": [
        {
          "output_type": "stream",
          "name": "stdout",
          "text": [
            "Enter the time in hours(24-hour format): 32\n",
            "Enter correct hour\n"
          ]
        }
      ]
    },
    {
      "cell_type": "code",
      "source": [
        "# 17. Triangle Type Checker: Write a Python program that takes three sides of a triangle as input and determines whether it forms an equilateral, isosceles, or scalene triangle.\n",
        "\n",
        "side1 = float(input(\"Enter first side: \"))\n",
        "side2 = float(input(\"Enter second side: \"))\n",
        "side3 = float(input(\"Enter third side: \"))\n",
        "\n",
        "if (side1 + side2 > side3) and (side1 + side3 > side2) and (side2 + side3 > side1):\n",
        "  if side1 == side2 == side3:\n",
        "    print(\"Equilateral triangle\")\n",
        "  elif (side1 == side2 != side3) or (side1 == side3 != side2) or (side2 == side3 != side1):\n",
        "    print(\"isosceles triangle\")\n",
        "  elif side1 != side2 != side3:\n",
        "    print('scalene triangle')\n",
        "else:\n",
        "  print(\"It is not a triangle\")"
      ],
      "metadata": {
        "colab": {
          "base_uri": "https://localhost:8080/"
        },
        "id": "9ybQj3VEEKMF",
        "outputId": "aa99cdea-d18a-4cbd-b99b-01d53ecdc23f"
      },
      "execution_count": 59,
      "outputs": [
        {
          "output_type": "stream",
          "name": "stdout",
          "text": [
            "Enter first side: 6\n",
            "Enter second side: 7\n",
            "Enter third side: 6\n",
            "isosceles triangle\n"
          ]
        }
      ]
    },
    {
      "cell_type": "code",
      "source": [
        "#18. Quadratic Equation Solver: Write a Python program that takes the coefficients (a, b, c) of a quadratic equation as input and calculates and prints the real roots (if they exist) or a message indicating the complex roots\n",
        "import math\n",
        "\n",
        "a = int(input(\"Enter the coef of a: \"))\n",
        "b = int(input(\"Enter the coef of b: \"))\n",
        "c = int(input(\"Enter the coef of c: \"))\n",
        "\n",
        "D = b**2 - 4*a*c\n",
        "\n",
        "if D > 0:\n",
        "  x1 = (-b + math.sqrt(b**2 - 4*a*c))/2*a\n",
        "  x2 = (-b - math.sqrt(b**2 - 4*a*c))/2*a\n",
        "  print(\"the real roots are: \", x1 ,\"and \",x2)\n",
        "elif D == 0:\n",
        "    x1 = -b / (2*a)\n",
        "    print(\"The real root is: x =\", x1)\n",
        "else:\n",
        "  print(\"it has complex roots\")"
      ],
      "metadata": {
        "colab": {
          "base_uri": "https://localhost:8080/"
        },
        "id": "e8amAjPCKnkU",
        "outputId": "3c4824f6-2ad5-4597-a31e-da0f188dfc5f"
      },
      "execution_count": 68,
      "outputs": [
        {
          "output_type": "stream",
          "name": "stdout",
          "text": [
            "Enter the coef of a: 1\n",
            "Enter the coef of b: -7\n",
            "Enter the coef of c: 10\n",
            "the real roots are:  5.0 and  2.0\n"
          ]
        }
      ]
    },
    {
      "cell_type": "code",
      "source": [
        "# 19. Number Ranges: Write a Python program that takes an integer as input and prints whether the number falls within the ranges: 0-50, 51-100, 101-150, or above 150\n",
        "\n",
        "num6 = int(input(\"Enter an integer: \"))\n",
        "\n",
        "if num6 >= 0 and num6 <= 50:\n",
        "    print(\"The number falls in the range 0-50.\")\n",
        "elif num6 >= 51 and num6 <= 100:\n",
        "    print(\"The number falls in the range 51-100.\")\n",
        "elif num6 >= 101 and num6 <= 150:\n",
        "    print(\"The number falls in the range 101-150.\")\n",
        "else:\n",
        "    print(\"The number is above 150.\")"
      ],
      "metadata": {
        "colab": {
          "base_uri": "https://localhost:8080/"
        },
        "id": "FpDFJZncTCy8",
        "outputId": "d567e259-de31-44a3-a565-5275e4626f02"
      },
      "execution_count": 69,
      "outputs": [
        {
          "output_type": "stream",
          "name": "stdout",
          "text": [
            "Enter an integer: 45\n",
            "The number falls in the range 0-50.\n"
          ]
        }
      ]
    },
    {
      "cell_type": "code",
      "source": [],
      "metadata": {
        "id": "Q2rTa9eFKhw0"
      },
      "execution_count": null,
      "outputs": []
    }
  ],
  "metadata": {
    "colab": {
      "toc_visible": true,
      "provenance": []
    },
    "kernelspec": {
      "display_name": "Python 3",
      "name": "python3"
    }
  },
  "nbformat": 4,
  "nbformat_minor": 0
}